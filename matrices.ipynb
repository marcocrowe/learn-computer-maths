{
 "cells": [
  {
   "cell_type": "code",
   "execution_count": null,
   "metadata": {},
   "outputs": [],
   "source": []
  },
  {
   "cell_type": "markdown",
   "metadata": {},
   "source": [
    "Given the following sets"
   ]
  },
  {
   "cell_type": "markdown",
   "metadata": {},
   "source": [
    "# Matrices Theory"
   ]
  },
  {
   "cell_type": "markdown",
   "metadata": {},
   "source": [
    "<!--\n",
    "import data_analytics.github as github\n",
    "print(github.create_jupyter_notebook_header(\"marcocrowe\", \"learn-computer-mathematics\", \"set-theory.ipynb\", \"master\"))\n",
    "-->\n",
    "<table style=\"margin: auto;\"><tr><td><a href=\"https://mybinder.org/v2/gh/marcocrowe/learn-computer-mathematics/master?filepath=set-theory.ipynb\" target=\"_parent\"><img src=\"https://mybinder.org/badge_logo.svg\" alt=\"Open In Binder\"/></a></td><td>online editors</td><td><a href=\"https://colab.research.google.com/github/marcocrowe/learn-computer-mathematics/blob/master/set-theory.ipynb\" target=\"_parent\"><img src=\"https://colab.research.google.com/assets/colab-badge.svg\" alt=\"Open In Colab\"/></a></td></tr></table>\n"
   ]
  },
  {
   "cell_type": "markdown",
   "metadata": {},
   "source": [
    "## Exercises"
   ]
  },
  {
   "cell_type": "markdown",
   "metadata": {},
   "source": [
    "Given the following sets:"
   ]
  },
  {
   "cell_type": "code",
   "execution_count": 13,
   "metadata": {},
   "outputs": [],
   "source": [
    "from numpy import array, dot, linalg"
   ]
  },
  {
   "cell_type": "code",
   "execution_count": 5,
   "metadata": {},
   "outputs": [],
   "source": [
    "A = array([[9, 2, 3], [4, -7, 1]])"
   ]
  },
  {
   "cell_type": "code",
   "execution_count": 6,
   "metadata": {},
   "outputs": [
    {
     "name": "stdout",
     "output_type": "stream",
     "text": [
      "[[ 9  2  3]\n",
      " [ 4 -7  1]]\n"
     ]
    }
   ],
   "source": [
    "print(A)"
   ]
  },
  {
   "cell_type": "code",
   "execution_count": null,
   "metadata": {},
   "outputs": [],
   "source": []
  },
  {
   "cell_type": "markdown",
   "metadata": {},
   "source": [
    "$A=\\begin{bmatrix} 9 & 2 & 3\\\\ 4 & -7 & 1\\end{bmatrix}$\n",
    "\n",
    "To get the transpose of a matrix, we switch the row and column indices of the matrix. That is, the first row becomes the first column, the second row becomes the second column, and the third row becomes the third column. The transpose of A is denoted as $A^T$.\n",
    "\n",
    "Transpose of A:\n",
    "\n",
    "$A^T=\\begin{bmatrix} 9 & 4\\\\ 2 & -7\\\\ 3 & 1\\end{bmatrix}$"
   ]
  },
  {
   "cell_type": "code",
   "execution_count": 7,
   "metadata": {},
   "outputs": [
    {
     "name": "stdout",
     "output_type": "stream",
     "text": [
      "Transposed Array:\n",
      "[[ 9  4]\n",
      " [ 2 -7]\n",
      " [ 3  1]]\n"
     ]
    }
   ],
   "source": [
    "arr1_transpose = A.transpose()\n",
    "\n",
    "print(f\"Transposed Array:\\n{arr1_transpose}\")"
   ]
  },
  {
   "cell_type": "markdown",
   "metadata": {},
   "source": [
    "Determinant \n",
    "\n",
    "Given $A = [\\begin{bmatrix} 2 & −4\\\\5 & 1\\end{bmatrix}]$ and $B = [\\begin{bmatrix} 5 & 2\\\\3 & −6\\end{bmatrix}]$ show that $|AB| = |A|.|B|$\n",
    "\n",
    "Show that |AB| = |A|.|B|\n",
    "\n",
    "To calculate the determinant of a 2x2 matrix, we use the following formula:\n",
    "\n",
    "$|A| = \\begin{bmatrix} a & b\\\\ c & d\\end{bmatrix} = ad - bc$\n",
    "\n",
    "$|A| = \\begin{bmatrix} 2 & -4\\\\ 5 & 1\\end{bmatrix} = 2*1 - (-4*5) = 2 + 20 = 22$\n",
    "\n",
    "$|B| = \\begin{bmatrix} 5 & 2\\\\ 3 & -6\\end{bmatrix} = 5*-6 - 2*3 = -30 - 6 = -36$\n",
    "\n",
    "AB = $\\begin{bmatrix} 2 & -4\\\\ 5 & 1\\end{bmatrix} * \\begin{bmatrix} 5 & 2\\\\ 3 & -6\\end{bmatrix}$\n",
    "\n",
    "AB = $\\begin{bmatrix} 2*5 + (-4)*3 & 2*2 + (-4)*(-6)\\\\ 5*5 + 1*3 & 5*2 + 1*(-6)\\end{bmatrix}$\n",
    "\n",
    "AB = $\\begin{bmatrix} 10 - 12 & 4 + 24\\\\ 25 + 3 & 10 - 6\\end{bmatrix}$\n",
    "\n",
    "AB = $\\begin{bmatrix} -2 & 28\\\\ 28 & 4\\end{bmatrix}$\n",
    "\n",
    "$|AB| = \\begin{bmatrix} -2 & 28\\\\ 28 & 4\\end{bmatrix} = -2*4 - 28*28 = -8 - 784 = -792$\n",
    "\n",
    "Where a, b, c, and d are the elements of the matrix."
   ]
  },
  {
   "cell_type": "code",
   "execution_count": 15,
   "metadata": {},
   "outputs": [],
   "source": [
    "A = array([[2, -4], [5, 1]])\n",
    "B = array([[5, 2], [3, -6]])\n",
    "\n",
    "AB = dot(A, B)"
   ]
  },
  {
   "cell_type": "code",
   "execution_count": 16,
   "metadata": {},
   "outputs": [
    {
     "name": "stdout",
     "output_type": "stream",
     "text": [
      "[[-2 28]\n",
      " [28  4]]\n"
     ]
    }
   ],
   "source": [
    "print(AB)"
   ]
  },
  {
   "cell_type": "code",
   "execution_count": 27,
   "metadata": {},
   "outputs": [
    {
     "name": "stdout",
     "output_type": "stream",
     "text": [
      "|A| = 22\n",
      "|B| = -36\n",
      "|AB| = -792\n",
      "|A| * |B| = -792\n"
     ]
    }
   ],
   "source": [
    "print(f\"|A| = {linalg.det(A):.0f}\")\n",
    "\n",
    "print(f\"|B| = {linalg.det(B):.0f}\")\n",
    "print(f\"|AB| = {linalg.det(AB):.0f}\")\n",
    "print(f\"|A| * |B| = {linalg.det(A) * linalg.det(B):.0f}\")"
   ]
  },
  {
   "cell_type": "markdown",
   "metadata": {},
   "source": [
    "1. $A\\cap B$ (2 marks)\n",
    "2. $U – (A \\cup C)$ (3 marks)\n",
    "3. $|A|$ (2 marks)\n",
    "4. $(A \\cup C) – B$ (3 marks)\n",
    "5. Is $(B ∩ C) ⊂ A$ Justify your answer."
   ]
  },
  {
   "cell_type": "code",
   "execution_count": 2,
   "metadata": {},
   "outputs": [
    {
     "name": "stdout",
     "output_type": "stream",
     "text": [
      "1. A ∩ B = {10, 12, 14}\n",
      "2. U – (A ∪ C) = {1, 3, 5, 7, 9, 11, 13, 17}\n",
      "3. |A| = 7\n",
      "4. (A ∪ C) – B = {2, 4, 6, 8, 18, 19, 20}\n",
      "5:\n",
      "B | C = {10, 11, 12, 13, 14, 15, 16, 18, 19, 20}\n",
      "A = {2, 4, 6, 8, 10, 12, 14}\n",
      "False\n",
      "5.  (B ∪ C) ⊈ A =\n"
     ]
    }
   ],
   "source": [
    "print(\"1. A ∩ B =\", A & B)\n",
    "print(\"2. U – (A ∪ C) =\", U - (A | C))\n",
    "print(\"3. |A| =\", len(A))\n",
    "print(\"4. (A ∪ C) – B =\", (A | C) - B)\n",
    "\n",
    "print(\"5:\")\n",
    "print(\"B | C =\", B | C)\n",
    "print(\"A =\", A)\n",
    "print((B | C).issubset(A))\n",
    "print(\"5. \", \"(B ∪ C) ⊆ A =\" if (B | C).issubset(A) else \"(B ∪ C) ⊈ A =\")"
   ]
  },
  {
   "cell_type": "markdown",
   "metadata": {},
   "source": [
    "Author <a href=\"https://github.com/marcocrowe\" target=\"_parent\">Mark Crowe</a> &copy; 2024. All rights reserved."
   ]
  }
 ],
 "metadata": {
  "kernelspec": {
   "display_name": "base",
   "language": "python",
   "name": "python3"
  },
  "language_info": {
   "codemirror_mode": {
    "name": "ipython",
    "version": 3
   },
   "file_extension": ".py",
   "mimetype": "text/x-python",
   "name": "python",
   "nbconvert_exporter": "python",
   "pygments_lexer": "ipython3",
   "version": "3.11.5"
  }
 },
 "nbformat": 4,
 "nbformat_minor": 2
}
