{
 "cells": [
  {
   "cell_type": "markdown",
   "metadata": {},
   "source": [
    "Given the following sets"
   ]
  },
  {
   "cell_type": "markdown",
   "metadata": {},
   "source": [
    "# Set Theory"
   ]
  },
  {
   "cell_type": "markdown",
   "metadata": {},
   "source": [
    "<!--\n",
    "import data_analytics.github as github\n",
    "print(github.create_jupyter_notebook_header(\"marcocrowe\", \"learn-computer-mathematics\", \"set-theory.ipynb\", \"master\"))\n",
    "-->\n",
    "<table style=\"margin: auto;\"><tr><td><a href=\"https://mybinder.org/v2/gh/marcocrowe/learn-computer-mathematics/master?filepath=set-theory.ipynb\" target=\"_parent\"><img src=\"https://mybinder.org/badge_logo.svg\" alt=\"Open In Binder\"/></a></td><td>online editors</td><td><a href=\"https://colab.research.google.com/github/marcocrowe/learn-computer-mathematics/blob/master/set-theory.ipynb\" target=\"_parent\"><img src=\"https://colab.research.google.com/assets/colab-badge.svg\" alt=\"Open In Colab\"/></a></td></tr></table>\n"
   ]
  },
  {
   "cell_type": "markdown",
   "metadata": {},
   "source": [
    "## Exercises"
   ]
  },
  {
   "cell_type": "markdown",
   "metadata": {},
   "source": [
    "Given the following sets:"
   ]
  },
  {
   "cell_type": "code",
   "execution_count": 1,
   "metadata": {},
   "outputs": [],
   "source": [
    "U = {1, 2, 3, 4, 5, 6, 7, 8, 9, 10, 11, 12, 13, 14, 15, 16, 17, 18, 19, 20}\n",
    "A = {2, 4, 6, 8, 10, 12, 14}\n",
    "B = {10, 11, 12, 13, 14, 15, 16}\n",
    "C = {10, 12, 14, 15, 16, 18, 19, 20}"
   ]
  },
  {
   "cell_type": "markdown",
   "metadata": {},
   "source": [
    "1. $A\\cap B$ (2 marks)\n",
    "2. $U – (A \\cup C)$ (3 marks)\n",
    "3. $|A|$ (2 marks)\n",
    "4. $(A \\cup C) – B$ (3 marks)\n",
    "5. Is $(B ∩ C) ⊂ A$ Justify your answer."
   ]
  },
  {
   "cell_type": "code",
   "execution_count": 2,
   "metadata": {},
   "outputs": [
    {
     "name": "stdout",
     "output_type": "stream",
     "text": [
      "1. A ∩ B = {10, 12, 14}\n",
      "2. U – (A ∪ C) = {1, 3, 5, 7, 9, 11, 13, 17}\n",
      "3. |A| = 7\n",
      "4. (A ∪ C) – B = {2, 4, 6, 8, 18, 19, 20}\n",
      "5:\n",
      "B | C = {10, 11, 12, 13, 14, 15, 16, 18, 19, 20}\n",
      "A = {2, 4, 6, 8, 10, 12, 14}\n",
      "False\n",
      "5.  (B ∪ C) ⊈ A =\n"
     ]
    }
   ],
   "source": [
    "print(\"1. A ∩ B =\", A & B)\n",
    "print(\"2. U – (A ∪ C) =\", U - (A | C))\n",
    "print(\"3. |A| =\", len(A))\n",
    "print(\"4. (A ∪ C) – B =\", (A | C) - B)\n",
    "\n",
    "print(\"5:\")\n",
    "print(\"B | C =\", B | C)\n",
    "print(\"A =\", A)\n",
    "print((B | C).issubset(A))\n",
    "print(\"5. \", \"(B ∪ C) ⊆ A =\" if (B | C).issubset(A) else \"(B ∪ C) ⊈ A =\")"
   ]
  },
  {
   "cell_type": "markdown",
   "metadata": {},
   "source": [
    "Author <a href=\"https://github.com/marcocrowe\" target=\"_parent\">Mark Crowe</a> &copy; 2024. All rights reserved."
   ]
  }
 ],
 "metadata": {
  "kernelspec": {
   "display_name": "base",
   "language": "python",
   "name": "python3"
  },
  "language_info": {
   "codemirror_mode": {
    "name": "ipython",
    "version": 3
   },
   "file_extension": ".py",
   "mimetype": "text/x-python",
   "name": "python",
   "nbconvert_exporter": "python",
   "pygments_lexer": "ipython3",
   "version": "3.11.5"
  }
 },
 "nbformat": 4,
 "nbformat_minor": 2
}
