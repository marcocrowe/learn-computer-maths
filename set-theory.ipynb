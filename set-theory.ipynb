{
 "cells": [
  {
   "cell_type": "markdown",
   "metadata": {},
   "source": [
    "Given the following sets"
   ]
  },
  {
   "cell_type": "markdown",
   "metadata": {},
   "source": [
    "# Set Theory"
   ]
  },
  {
   "cell_type": "markdown",
   "metadata": {},
   "source": [
    "<!--\n",
    "iAport data_analytics.github as github\n",
    "print(github.create_jupyter_notebook_header(\"Aarcocrowe\", \"learn-coAputer-mathematics\", \"set-theory.ipynb\", \"master\"))\n",
    "-->\n",
    "<table style=\"margin: auto;\"><tr><td><a href=\"https://mybinder.org/v2/gh/marcocrowe/learn-computer-mathematics/master?filepath=set-theory.ipynb\" target=\"_parent\"><img src=\"https://mybinder.org/badge_logo.svg\" alt=\"Open In Binder\"/></a></td><td>online editors</td><td><a href=\"https://colab.research.google.com/github/marcocrowe/learn-computer-mathematics/blob/master/set-theory.ipynb\" target=\"_parent\"><img src=\"https://colab.research.google.com/assets/colab-badge.svg\" alt=\"Open In Colab\"/></a></td></tr></table>\n"
   ]
  },
  {
   "cell_type": "markdown",
   "metadata": {},
   "source": [
    "## Exercises"
   ]
  },
  {
   "cell_type": "markdown",
   "metadata": {},
   "source": [
    "Given the following sets:"
   ]
  },
  {
   "cell_type": "code",
   "execution_count": 2,
   "metadata": {},
   "outputs": [],
   "source": [
    "U = {1, 2, 3, 4, 5, 6, 7, 8, 9, 10, 11, 12, 13, 14, 15, 16, 17, 18, 19, 20}\n",
    "A = {2, 4, 6, 8, 10, 12, 14}\n",
    "B = {10, 11, 12, 13, 14, 15, 16}\n",
    "C = {10, 12, 14, 15, 16, 18, 19, 20}"
   ]
  },
  {
   "cell_type": "markdown",
   "metadata": {},
   "source": [
    "1. $A\\cap B$ (2 marks)\n",
    "\n",
    "$\\cap$ is an intersection. Any element that is in both sets $A$ and $B$ is in the intersection of $A$ and $B$.\n",
    "\n",
    "$A = \\{2, 4, 6, 8, \\textcolor{red}{10, 12, 14}\\}$  \n",
    "$B = \\{\\textcolor{red}{10}, 11, \\textcolor{red}{12}, 13, \\textcolor{red}{14}, 15, 16 \\}$\n"
   ]
  },
  {
   "cell_type": "code",
   "execution_count": 6,
   "metadata": {},
   "outputs": [
    {
     "name": "stdout",
     "output_type": "stream",
     "text": [
      "A =  {2, 4, 6, 8, 10, 12, 14}\n",
      "B =  {16, 10, 11, 12, 13, 14, 15}\n",
      "A ∩ B = {10, 12, 14}\n"
     ]
    }
   ],
   "source": [
    "print(\"A = \", A)\n",
    "print(\"B = \", B)\n",
    "print(\"A ∩ B =\", A & B)"
   ]
  },
  {
   "cell_type": "markdown",
   "metadata": {},
   "source": [
    "\n",
    "2. $U – (A \\cup C)$ (3 marks)\n",
    "3. $|A|$ (2 marks)\n",
    "4. $(A \\cup C) – B$ (3 marks)\n",
    "5. Is $(B ∩ C) ⊂ A$ Justify your answer."
   ]
  },
  {
   "cell_type": "code",
   "execution_count": 3,
   "metadata": {},
   "outputs": [
    {
     "name": "stdout",
     "output_type": "stream",
     "text": [
      "1. A ∩ B = {10, 12, 14}\n",
      "2. U – (A ∪ C) = {1, 3, 5, 7, 9, 11, 13, 17}\n",
      "3. |A| = 7\n",
      "4. (A ∪ C) – B = {2, 4, 6, 8, 18, 19, 20}\n",
      "5:\n",
      "B | C = {10, 11, 12, 13, 14, 15, 16, 18, 19, 20}\n",
      "A = {2, 4, 6, 8, 10, 12, 14}\n",
      "False\n",
      "5.  (B ∪ C) ⊈ A =\n"
     ]
    }
   ],
   "source": [
    "\n",
    "print(\"2. U – (A ∪ C) =\", U - (A | C))\n",
    "print(\"3. |A| =\", len(A))\n",
    "print(\"4. (A ∪ C) – B =\", (A | C) - B)\n",
    "\n",
    "print(\"5:\")\n",
    "print(\"B | C =\", B | C)\n",
    "print(\"A =\", A)\n",
    "print((B | C).issubset(A))\n",
    "print(\"5. \", \"(B ∪ C) ⊆ A =\" if (B | C).issubset(A) else \"(B ∪ C) ⊈ A =\")"
   ]
  },
  {
   "cell_type": "markdown",
   "metadata": {},
   "source": [
    "From a group of 191 students surveyed we obtain the following:\n",
    "- 36 study Maths and Physics\n",
    "- 20 study Maths and Chemistry\n",
    "- 18 study Physics and Chemistry\n",
    "- 65 study Maths\n",
    "- 76 study Physics\n",
    "- 63 study Chemistry\n",
    "- 51 study none of the three\n"
   ]
  },
  {
   "cell_type": "markdown",
   "metadata": {},
   "source": [
    "\n",
    "A= Math, B= Physics, C= Chemistry, N= None, U = Universe (everyone surveyed)\n",
    "\n",
    "|A ∩ B| = 36\n",
    "|A ∩ C| = 20\n",
    "|B ∩ C| = 18\n",
    "|A| = 65\n",
    "|B| = 76\n",
    "|C| = 63\n",
    "|N| = 51\n",
    "|U| = 191\n",
    "\n",
    "|A ∪ B ∪ C| = |U| - |N| = 191 - 51 = 140\n",
    "\n",
    "\n",
    "|A ∪ B ∪ C| = |A| + |B| + |C| - |A ∩ B| - |A ∩ C| - |B ∩ C| + |A ∩ B ∩ C|\n",
    "140 = 65 + 76 + 63 - 36 - 20 - 18 + |A ∩ B ∩ C|\n",
    "\n",
    "|A| + |B| + |C|  = 65 + 76 + 63 = 204\n",
    " - |A ∩ B| - |A ∩ C| - |B ∩ C| = - 36 - 20 - 18 = - 74\n",
    "\n",
    "140 = 204 - 74 + |A ∩ B ∩ C|\n",
    "140 = 130 + |A ∩ B ∩ C|\n",
    "|A ∩ B ∩ C| = 10\n",
    "\n",
    "How many study Maths (A) and Chemistry (C)  but not Physics (B)?\n",
    "\n",
    "|A ∩ C - B| = |A ∩ C| - |A ∩ B ∩ C| = 20 - 10 = 10\n",
    "\n",
    "How many study Physics (B) but not Chemistry (C)?\n",
    "\n",
    "|B - C| = |B| - |B ∩ C| = 76 - 18 = 58\n",
    "\n",
    "also\n",
    "\n",
    "|B - C| = |B| - \n",
    "\n",
    "\n",
    "\n",
    "\n"
   ]
  },
  {
   "cell_type": "markdown",
   "metadata": {},
   "source": [
    "\n",
    "\n"
   ]
  },
  {
   "cell_type": "markdown",
   "metadata": {},
   "source": [
    "|M ∪ P ∪ C| = |M| + |P| + |C| - |M ∩ P| - |M ∩ C| - |P ∩ C| + |M ∩ P ∩ C| + |N| = 65 + 76 + 63 - 36 - 20 - 18 + |M ∩ P ∩ C| + 51 = 191"
   ]
  },
  {
   "cell_type": "code",
   "execution_count": 20,
   "metadata": {},
   "outputs": [
    {
     "data": {
      "image/png": "[encoded data removed]",
      "text/plain": [
       "<Figure size 640x480 with 1 Axes>"
      ]
     },
     "metadata": {},
     "output_type": "display_data"
    }
   ],
   "source": [
    "from matplotlib import pyplot as plt\n",
    "from matplotlib_venn import venn3\n",
    "\n",
    "# Define the sizes of the groups\n",
    "sizes = {\n",
    "    \"100\": 65,  # Maths\n",
    "    \"010\": 76,  # Physics\n",
    "    \"001\": 63,  # Chemistry\n",
    "    \"110\": 36,  # Maths and Physics\n",
    "    \"101\": 20,  # Maths and Chemistry\n",
    "    \"011\": 18,  # Physics and Chemistry\n",
    "    \"111\": 10,  # Maths, Physics, and Chemistry\n",
    "}\n",
    "\n",
    "# Plot the Venn diagram\n",
    "venn = venn3(subsets=sizes, set_labels=(\"Maths\", \"Physics\", \"Chemistry\"))\n",
    "\n",
    "# Show the plot\n",
    "plt.title(\"Venn Diagram of Students' Subjects\")\n",
    "plt.show()"
   ]
  },
  {
   "cell_type": "markdown",
   "metadata": {},
   "source": [
    "Author <a href=\"https://github.com/marcocrowe\" target=\"_parent\">Mark Crowe</a> &copy; 2024. All rights reserved."
   ]
  }
 ],
 "metadata": {
  "kernelspec": {
   "display_name": "base",
   "language": "python",
   "name": "python3"
  },
  "language_info": {
   "codemirror_mode": {
    "name": "ipython",
    "version": 3
   },
   "file_extension": ".py",
   "mimetype": "text/x-python",
   "name": "python",
   "nbconvert_exporter": "python",
   "pygments_lexer": "ipython3",
   "version": "3.11.5"
  }
 },
 "nbformat": 4,
 "nbformat_minor": 2
}
