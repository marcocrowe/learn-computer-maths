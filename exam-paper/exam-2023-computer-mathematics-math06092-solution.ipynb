{
 "cells": [
  {
   "cell_type": "markdown",
   "metadata": {},
   "source": [
    "<!--\n",
    "import data_analytics.github as github\n",
    "print(github.create_jupyter_notebook_header(\"marcocrowe\", \"learn-mathematical-methods\", \"exams/exam-2023-computer-mathematics-math06092-solution.ipynb\", \"master\"))\n",
    "-->\n",
    "<table style=\"margin: auto;\"><tr><td><a href=\"https://mybinder.org/v2/gh/marcocrowe/learn-mathematical-methods/master?filepath=exam-2024-mathematical-methods-math06095-solution.ipynb\" target=\"_parent\"><img src=\"https://mybinder.org/badge_logo.svg\" alt=\"Open In Binder\"/></a></td><td>online editors</td><td><a href=\"https://colab.research.google.com/github/marcocrowe/learn-mathematical-methods/blob/master/exam-2024-mathematical-methods-math06095-solution.ipynb\" target=\"_parent\"><img src=\"https://colab.research.google.com/assets/colab-badge.svg\" alt=\"Open In Colab\"/></a></td></tr></table>\n"
   ]
  },
  {
   "cell_type": "markdown",
   "metadata": {},
   "source": [
    "Computer Mathematics (MATH06092) - Exam Paper - 2023 - Winter"
   ]
  },
  {
   "cell_type": "markdown",
   "metadata": {},
   "source": [
    "**Time Allowed**: 2 hours\n",
    "\n",
    "**Instructions**: You must answer Question One and any two other questions.\n",
    "\n",
    "The use of programmable or text storing calculators is expressly forbidden.\n",
    "\n",
    "Please note that where a candidate answers more than the required number of questions, the examiner will mark all questions attempted and then select the highest scoring ones.\n",
    "\n",
    "Requirements for this paper:\n",
    "\n",
    "1. Calculators\n",
    "\n",
    "**You must answer Question One**  \n",
    "\n",
    "## Question 1 (Total 40 marks)\n",
    "\n",
    "### Question 1(a) **(4 marks)**\n",
    "\n",
    "Evaluate for x = 4 and y = 5;  \n",
    "$$5xy^2 - 2x^2y - 3(xy)^2 + 4y^3$$\n",
    "\n",
    "### Question 1(b) **(6 marks)**\n",
    "\n",
    "Evaluate, giving your answer correct to **two significant figures**:  \n",
    "$$13.1^2 + (8.91 \\times 10^4) - \\sqrt{ 42^{2.5}} + 5^{-1.5}$$  \n",
    "\n",
    "### Question 1(c) **(Total 8 marks)**\n",
    "\n",
    "Simplify the following:\n",
    "\n",
    "1. $5x^2 \\cdot 3xy^2 \\cdot 4x^2y^2$ **(4 marks)**\n",
    "2. $\\dfrac{27x^5 y^2}{(3xy^2)^2}$ **(4 marks)**\n",
    "\n",
    "### Question 1(d) **(8 marks)**\n",
    "\n",
    "Transpose the following to make z the subject:\n",
    "\n",
    "$$x = \\sqrt{\\dfrac{5 + r}{2z + y}}$$\n",
    "\n",
    "### Question 1(e) **(6 marks)**\n",
    "\n",
    "Convert $1\\ 1101.011_2$ to decimal.\n",
    "\n",
    "### Question 1(f) **(8 marks)**\n",
    "\n",
    "Prove, using truth tables:\n",
    "\n",
    "$$\\neg (p \\lor q) \\equiv \\neg p \\land \\neg q$$  \n",
    "$$\\overline{(p + q)} \\equiv \\overline{p} \\cdot \\overline{q}$$\n",
    "\n",
    "## Question 2 (Total 30 marks)\n",
    "\n",
    "### Question 2(a) **(7 marks)**\n",
    "\n",
    "Solve for x:\n",
    "\n",
    "$$4^x = 8^{2x+2}$$\n",
    "\n",
    "### Question 2(b) **(8 marks)**\n",
    "\n",
    "Solve for x:\n",
    "\n",
    "$$3^{x+1} = 5^x$$\n",
    "\n",
    "### Question 2(c) **(8 marks)**\n",
    "\n",
    "Solve for x:\n",
    "\n",
    "$$\\log x = 2\\log 5 + 3\\log 2 - (\\log 4 + \\log 5)$$\n",
    "\n",
    "### Question 2(d) **(7 marks)**\n",
    "\n",
    "Solve for x:\n",
    "\n",
    "$$\\log_2 (3x - 7) = 3$$\n"
   ]
  },
  {
   "cell_type": "markdown",
   "metadata": {},
   "source": [
    "\n",
    "## Question 3 (Total 30 marks)\n"
   ]
  },
  {
   "cell_type": "markdown",
   "metadata": {},
   "source": [
    "\n",
    "### Question 3(a)\n",
    "\n",
    "Convert the following to decimal: [You must show workings]\n",
    "\n",
    "1. $472_8$ **(4 marks)**\n",
    "2. $3DB_{16}$ **(4 marks)**"
   ]
  },
  {
   "cell_type": "markdown",
   "metadata": {},
   "source": [
    "\n",
    "#### Question 3(a)1 Answer\n",
    "\n",
    "$472_8 = 314_{10}$\n",
    "\n",
    "| Number  | ... |          $8^2$ |          $8^1$ |          $8^0$ |\n",
    "|---------|-----|---------------:|---------------:|---------------:|\n",
    "| $472_8$ |     | $4 \\times 8^2$ | $7 \\times 8^1$ | $2 \\times 8^0$ |\n",
    "|         |     |  $4 \\times 64$ |   $7 \\times 8$ |   $2 \\times 1$ |\n",
    "|         |     |          $256$ |           $56$ |            $2$ |\n"
   ]
  },
  {
   "cell_type": "markdown",
   "metadata": {},
   "source": [
    "\n",
    "#### Question 3(a)2 Answer\n",
    "\n",
    "Procedure: Change any Letters to their decimal equivalent.\n",
    "\n",
    "$3DB_{16} = 987_{10}$\n",
    "\n",
    "| Number     | ... |          $16^2$ |           $16^1$ |           $16^0$ |\n",
    "|------------|-----|----------------:|-----------------:|-----------------:|\n",
    "| $3DB_{16}$ |     | $3 \\times 16^2$ |  $D \\times 16^1$ |  $B \\times 16^0$ |\n",
    "|            |     | $3 \\times 16^2$ | $13 \\times 16^1$ | $11 \\times 16^0$ |\n",
    "|            |     |  $3 \\times 256$ |   $13 \\times 16$ |    $11 \\times 1$ |\n",
    "|            |     |           $768$ |            $208$ |             $11$ |\n",
    "\n",
    "$61,440 + 2,560 + 192 + 14 = 64,206$\n"
   ]
  },
  {
   "cell_type": "markdown",
   "metadata": {},
   "source": [
    "\n",
    "### Question 3(b)\n",
    "\n",
    "Convert the following to binary: [You must show workings]\n",
    "\n",
    "1. $215.75_{10}$ **(4 marks)**\n",
    "2. $9F.B_{16}$ **(4 marks)**\n"
   ]
  },
  {
   "cell_type": "markdown",
   "metadata": {},
   "source": [
    "\n",
    "#### Question 3(b)1 Answer\n",
    "\n",
    "$215.75_{10} = 1101\\ 0111.11_2$\n",
    "\n",
    "First the integer part:\n",
    "Procedure: Keep dividing by 2 until you reach zero. If the number divides with no remainder, put remainder 0. When finished, read the remainders from bottom to top.\n",
    "\n",
    "$2\\underline{|215} \\\\\n",
    "2\\underline{|107} + 1 \\\\\n",
    "\\ \\ 2\\underline{|53} + 1 \\\\\n",
    "\\ \\ 2\\underline{|26} + 1 \\\\\n",
    "\\ \\ 2\\underline{|13} + 0 \\\\\n",
    "\\ \\ \\ \\ 2\\underline{|6 } + 1 \\\\\n",
    "\\ \\ \\ \\ 2\\underline{|3 } + 0 \\\\\n",
    "\\ \\ \\ \\ 2\\underline{|1 } + 1 \\\\\n",
    "\\ \\ \\ \\ \\ \\ \\ 0 + 1 \\uparrow$\n",
    "\n",
    "Second the fractional part:\n",
    "\n",
    "$\\begin{array}{r}\n",
    "0.75 \\\\\n",
    "\\times \\underline{2} \\\\\n",
    "\\downarrow \\bold{1}.50 \\\\\n",
    "\\times \\underline{2} \\\\\n",
    "\\bold{1}.00 \\\\\n",
    "\\end{array} \\\\ \\ \\\\\n",
    "0.75 = 0.11_2$\n"
   ]
  },
  {
   "cell_type": "markdown",
   "metadata": {},
   "source": [
    "\n",
    "### Question 3(c)\n",
    "\n",
    "Convert the following to hexadecimal: [You must show workings]\n",
    "\n",
    "1. $1101\\ 0110\\ 1010_2$ **(4 marks)**\n",
    "2. $439_{10}$ **(4 marks)**\n",
    "\n",
    "### Question 3(d) **(6 marks)**\n",
    "\n",
    "Perform the following additions:\n",
    "\n",
    "$$1\\ 1101_2 + 1\\ 1011_2$$  \n"
   ]
  },
  {
   "cell_type": "markdown",
   "metadata": {},
   "source": [
    "\n",
    "## Question 4 (Total 30 marks)\n",
    "\n",
    "### Question 4(a) **(10 marks)**\n",
    "\n",
    "Express the following in symbolic form. [You do **not** need a truth table].\n",
    "\n",
    "*If today is Saturday, then lectures will take place. If lectures do not take place, then I will go swimming. I go swimming. Therefore today is Saturday.*\n",
    "\n",
    "### Question 4(b) **(6 marks)**\n",
    "\n",
    "Write down the inverse, converse, and contrapositive of the following statement:\n",
    "\n",
    "*If it isn’t raining today, then I am going to the beach.*\n",
    "\n",
    "### Question 4(c) **(14 marks)**\n",
    "\n",
    "Complete the truth table for the following expression and state if the proposition is a tautology, a contradiction, or neither.\n",
    "\n",
    "$$(p \\land \\neg q) \\to (p \\lor \\neg r)$$  \n",
    "$$(p \\cdot \\overline{q}) \\to (p + \\overline{r})$$\n",
    "\n",
    "---\n"
   ]
  },
  {
   "cell_type": "markdown",
   "metadata": {},
   "source": [
    "\n",
    "## Paper College Details\n",
    "\n",
    "College: Technological University of the Shannon: Midlands Midwest  \n",
    "Module Title: Computer Mathematics  \n",
    "Module Code: MATH06092  \n",
    "Year of Study: 1  \n",
    "Year: 2023 - Winter  \n",
    "File Name: exam-2023-computer-mathematics-math06092-paper.md\n"
   ]
  },
  {
   "cell_type": "markdown",
   "metadata": {},
   "source": [
    "\n",
    "### Programmes\n",
    "\n",
    "| Code         | Programme                                                              |\n",
    "|--------------|------------------------------------------------------------------------|\n",
    "| LC_KMWCM_JMY | Bsc. Mobile and Web Computing                                          |\n",
    "| LC_KCSYM_IMY | Higher Certificate in Science Computer Networks and Systems Management |\n",
    "| LC_KGDSM_KTH | Bsc. (Honours) Games Design and Development                            |\n",
    "| LC_KCSYM_KMY | Bsc. (Honours) Computer Networks and Systems Management                |\n",
    "| LC_KSOFM_KMY | Bsc. (Honours) Software Development                                    |\n",
    "| LC_KCPTM_JMY | Bsc. Computing                                                         |\n",
    "| LC_KISYM_KMY | Bsc. (Honours) Internet Systems Dev                                    |\n",
    "| LC_KMWCM_KMY | Bsc. (Honours) Mobile and Web Computing                                |\n",
    "| LC_KISYM_JMY | Bsc. Internet Systems Development                                      |\n",
    "| LC_KIMMM_KMY | Bsc. (Honours) Immersive Digital Media                                 |\n",
    "\n",
    "### Examiners\n",
    "\n",
    "| Examiner                  |          |\n",
    "|---------------------------|----------|\n",
    "| Mike O Connell            | Internal |\n",
    "| Pamela O Brien            | Internal |\n",
    "| Dr. Fernando Perez-Tellez | External |\n"
   ]
  }
 ],
 "metadata": {
  "kernelspec": {
   "display_name": "base",
   "language": "python",
   "name": "python3"
  },
  "language_info": {
   "codemirror_mode": {
    "name": "ipython",
    "version": 3
   },
   "file_extension": ".py",
   "mimetype": "text/x-python",
   "name": "python",
   "nbconvert_exporter": "python",
   "pygments_lexer": "ipython3",
   "version": "3.11.5"
  }
 },
 "nbformat": 4,
 "nbformat_minor": 2
}
